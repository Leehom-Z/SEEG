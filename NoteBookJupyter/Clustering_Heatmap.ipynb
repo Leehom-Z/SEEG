{
 "cells": [
  {
   "cell_type": "code",
   "execution_count": 1,
   "metadata": {
    "ExecuteTime": {
     "end_time": "2020-01-03T06:57:58.176975Z",
     "start_time": "2020-01-03T06:57:58.124705Z"
    },
    "pycharm": {
     "is_executing": false
    }
   },
   "outputs": [],
   "source": [
    "import os\n",
    "import numpy as np\n",
    "from dtw import dtw\n",
    "from tqdm import tqdm\n",
    "import pandas as pd\n",
    "import seaborn as sns\n",
    "from matplotlib import pyplot as plt\n",
    "\n"
   ]
  },
  {
   "cell_type": "code",
   "execution_count": 2,
   "metadata": {
    "pycharm": {
     "is_executing": false
    }
   },
   "outputs": [
    {
     "name": "stderr",
     "text": [
      "100%|██████████| 7/7 [00:00<00:00, 34.26it/s]\n"
     ],
     "output_type": "stream"
    }
   ],
   "source": [
    "def similarity_DTW(s1, s2):\n",
    "    ratio = 50 # 设定的放缩系数，避免数据的相似度过于集中\n",
    "    euclidean_norm = lambda x, y: np.abs(ratio * (x - y))\n",
    "    d, cost_matrix, acc_cost_matrix, path = dtw(s1, s2, dist=euclidean_norm)\n",
    "    score = 1 - np.tanh(d)  # 相似度的评分【0,1】 0： 完全不同， 1： 完全相同\n",
    "    return score\n",
    "\n",
    "DBA_cluster = np.load(\"./processing/DBA_wave.pkl\", allow_pickle=True)\n",
    "DBA_clustering_heatmap = np.zeros((len(DBA_cluster), len(DBA_cluster)))\n",
    "id_list = list(DBA_cluster.keys())\n",
    "for i, id in enumerate(tqdm(id_list)):\n",
    "    s1 = DBA_cluster[id]\n",
    "    for j in range(0, i+1):\n",
    "        id_2 = id_list[j]\n",
    "        s2 = DBA_cluster[id_2]\n",
    "        score = similarity_DTW(s1, s2)\n",
    "        DBA_clustering_heatmap[i][j] = score\n",
    "        DBA_clustering_heatmap[j][i] = score"
   ]
  },
  {
   "cell_type": "code",
   "execution_count": 3,
   "outputs": [
    {
     "name": "stdout",
     "text": [
      "          0         1         2         3         4         5         6\n",
      "0  1.000000  0.696607  0.308682  0.004413  0.273304  0.012236  0.002917\n",
      "1  0.696607  1.000000  0.209395  0.010587  0.329304  0.011717  0.004754\n",
      "2  0.308682  0.209395  1.000000  0.013241  0.122678  0.156160  0.002735\n",
      "3  0.004413  0.010587  0.013241  1.000000  0.030979  0.091783  0.007271\n",
      "4  0.273304  0.329304  0.122678  0.030979  1.000000  0.033002  0.038302\n",
      "5  0.012236  0.011717  0.156160  0.091783  0.033002  1.000000  0.001204\n",
      "6  0.002917  0.004754  0.002735  0.007271  0.038302  0.001204  1.000000\n",
      "[0, 1, 3, 4, 6, 5, 2]\n",
      "['ClusterID0', 'ClusterID1', 'ClusterID3', 'ClusterID4', 'ClusterID6', 'ClusterID5', 'ClusterID2']\n",
      "            ClusterID0  ClusterID1  ClusterID3  ClusterID4  ClusterID6  \\\n",
      "ClusterID0    1.000000    0.696607    0.308682    0.004413    0.273304   \n",
      "ClusterID1    0.696607    1.000000    0.209395    0.010587    0.329304   \n",
      "ClusterID3    0.308682    0.209395    1.000000    0.013241    0.122678   \n",
      "ClusterID4    0.004413    0.010587    0.013241    1.000000    0.030979   \n",
      "ClusterID6    0.273304    0.329304    0.122678    0.030979    1.000000   \n",
      "ClusterID5    0.012236    0.011717    0.156160    0.091783    0.033002   \n",
      "ClusterID2    0.002917    0.004754    0.002735    0.007271    0.038302   \n",
      "\n",
      "            ClusterID5  ClusterID2  \n",
      "ClusterID0    0.012236    0.002917  \n",
      "ClusterID1    0.011717    0.004754  \n",
      "ClusterID3    0.156160    0.002735  \n",
      "ClusterID4    0.091783    0.007271  \n",
      "ClusterID6    0.033002    0.038302  \n",
      "ClusterID5    1.000000    0.001204  \n",
      "ClusterID2    0.001204    1.000000  \n"
     ],
     "output_type": "stream"
    },
    {
     "data": {
      "text/plain": "<Figure size 720x720 with 4 Axes>",
      "image/png": "[encoded data removed]"
     },
     "metadata": {
      "needs_background": "light"
     },
     "output_type": "display_data"
    }
   ],
   "source": [
    "data_frame = pd.DataFrame(DBA_clustering_heatmap)\n",
    "print(data_frame)\n",
    "\n",
    "print(id_list)\n",
    "cluster_id = [\"ClusterID{}\".format(x) for x in id_list]\n",
    "print(cluster_id)\n",
    "cluster_result = data_frame.rename(index=dict(zip(range(len(cluster_id)), cluster_id)), columns=dict(zip(range(len(cluster_id)), cluster_id)))\n",
    "print(cluster_result)\n",
    "# print(data_frame)\n",
    "\n",
    "# metric数据度量方法, method计算聚类的方法\n",
    "# standard_scale标准维度（0：行或1：列即每行或每列的含义，减去最小值并将每个维度除以其最大值）\n",
    "# sns.clustermap(cluster_result, metric=\"correlation\", method=\"single\", cmap=\"Blues\", standard_scale=1)\n",
    "# sns.clustermap(cluster_result, standard_scale=1)\n",
    "# Normalize 正则化\n",
    "sns.clustermap(cluster_result, z_score=1)\n",
    "plt.savefig(\"./pdf/cluster_heatmap.pdf\")\n",
    "plt.show()"
   ],
   "metadata": {
    "collapsed": false,
    "pycharm": {
     "name": "#%%\n",
     "is_executing": false
    }
   }
  },
  {
   "cell_type": "code",
   "execution_count": null,
   "outputs": [],
   "source": [
    "\n"
   ],
   "metadata": {
    "collapsed": false,
    "pycharm": {
     "name": "#%%\n"
    }
   }
  }
 ],
 "metadata": {
  "kernelspec": {
   "display_name": "ching",
   "language": "python",
   "name": "ching"
  },
  "language_info": {
   "codemirror_mode": {
    "name": "ipython",
    "version": 3
   },
   "file_extension": ".py",
   "mimetype": "text/x-python",
   "name": "python",
   "nbconvert_exporter": "python",
   "pygments_lexer": "ipython3",
   "version": "3.6.9"
  },
  "latex_envs": {
   "LaTeX_envs_menu_present": true,
   "autoclose": false,
   "autocomplete": true,
   "bibliofile": "biblio.bib",
   "cite_by": "apalike",
   "current_citInitial": 1,
   "eqLabelWithNumbers": true,
   "eqNumInitial": 1,
   "hotkeys": {
    "equation": "ctrl-shift-e"
   },
   "labels_anchors": false,
   "latex_user_defs": false,
   "report_style_numbering": false,
   "user_envs_cfg": false
  },
  "toc": {
   "base_numbering": 1,
   "nav_menu": {},
   "number_sections": true,
   "sideBar": true,
   "skip_h1_title": false,
   "title_cell": "Table of Contents",
   "title_sidebar": "Contents",
   "toc_cell": false,
   "toc_position": {},
   "toc_section_display": true,
   "toc_window_display": false
  },
  "pycharm": {
   "stem_cell": {
    "cell_type": "raw",
    "source": [],
    "metadata": {
     "collapsed": false
    }
   }
  }
 },
 "nbformat": 4,
 "nbformat_minor": 1
}