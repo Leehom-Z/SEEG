{
 "cells": [
  {
   "cell_type": "code",
   "execution_count": null,
   "outputs": [],
   "source": [
    "import numpy as np\n",
    "import os"
   ],
   "metadata": {
    "collapsed": false,
    "pycharm": {
     "name": "#%%\n",
     "is_executing": false
    }
   }
  },
  {
   "cell_type": "code",
   "execution_count": null,
   "outputs": [],
   "source": [
    "path = \"/home/cbd109-3/Users/data/yh/Program/Python/SEEG/VMAML/precision/BDP_val_precision.pkl\"\n",
    "data = np.load(path, allow_pickle=True)\n",
    "print(data)"
   ],
   "metadata": {
    "collapsed": false,
    "pycharm": {
     "name": "#%%\n",
     "is_executing": false
    }
   }
  },
  {
   "cell_type": "code",
   "execution_count": null,
   "outputs": [],
   "source": [
    "data_sort = sorted(data.items(), key= lambda x: x[0])\n",
    "print(data_sort)\n",
    "\n"
   ],
   "metadata": {
    "collapsed": false,
    "pycharm": {
     "name": "#%%\n",
     "is_executing": false
    }
   }
  },
  {
   "cell_type": "code",
   "source": [
    "# a = [1, 2, 3]\n",
    "# b = [4, 5, 6]\n",
    "# for p, n in zip(a, b):\n",
    "#     print(p, n)\n",
    "\n",
    "c = {1:1, 2:2, 3:4, 4:5, 5:6}\n",
    "for id, data in c.items():\n",
    "    print(id, data)\n"
   ],
   "metadata": {
    "collapsed": false,
    "pycharm": {
     "name": "#%% \n",
     "is_executing": false
    }
   },
   "execution_count": null,
   "outputs": []
  },
  {
   "cell_type": "code",
   "source": [
    "def normalized_matrix(data):\n",
    "    data_min = np.min(data.flatten())\n",
    "    data_max = np.max(data.flatten())\n",
    "    nor_data = (data_max-data) /(data_max-data_min)\n",
    "    return nor_data\n",
    "\n",
    "path = \"./processing/DTW_distance_matrix.npy\"\n",
    "DTW_distance = np.load(path, allow_pickle=True)\n",
    "min_data = np.min(DTW_distance.flatten())\n",
    "max_data = np.min(DTW_distance.flatten())\n",
    "print(min_data, max_data)\n",
    "# print(DTW_similarity)\n",
    "DTW_similarity = normalized_matrix(DTW_distance)\n",
    "print(DTW_similarity.shape)\n",
    "print(DTW_similarity)\n"
   ],
   "metadata": {
    "collapsed": false,
    "pycharm": {
     "name": "#%% \n",
     "is_executing": false
    }
   },
   "execution_count": null,
   "outputs": []
  },
  {
   "cell_type": "code",
   "execution_count": 1,
   "outputs": [
    {
     "name": "stdout",
     "text": [
      "0\n",
      "1\n",
      "2\n",
      "3\n",
      "4\n",
      "5\n",
      "6\n",
      "7\n",
      "8\n",
      "9\n"
     ],
     "output_type": "stream"
    }
   ],
   "source": [
    "a = 10\n",
    "b = 100\n",
    "t = 0\n",
    "while t < 10 and t < 100:\n",
    "    print(t)\n",
    "    t += 1"
   ],
   "metadata": {
    "collapsed": false,
    "pycharm": {
     "name": "#%%\n",
     "is_executing": false
    }
   }
  },
  {
   "cell_type": "code",
   "execution_count": null,
   "outputs": [],
   "source": [
    "\n"
   ],
   "metadata": {
    "collapsed": false,
    "pycharm": {
     "name": "#%%\n"
    }
   }
  }
 ],
 "metadata": {
  "kernelspec": {
   "name": "ching",
   "language": "python",
   "display_name": "ching"
  },
  "language_info": {
   "codemirror_mode": {
    "name": "ipython",
    "version": 3
   },
   "file_extension": ".py",
   "mimetype": "text/x-python",
   "name": "python",
   "nbconvert_exporter": "python",
   "pygments_lexer": "ipython3",
   "version": "3.6.9"
  },
  "latex_envs": {
   "LaTeX_envs_menu_present": true,
   "autoclose": false,
   "autocomplete": true,
   "bibliofile": "biblio.bib",
   "cite_by": "apalike",
   "current_citInitial": 1,
   "eqLabelWithNumbers": true,
   "eqNumInitial": 1,
   "hotkeys": {
    "equation": "ctrl-shift-e"
   },
   "labels_anchors": false,
   "latex_user_defs": false,
   "report_style_numbering": false,
   "user_envs_cfg": false
  },
  "pycharm": {
   "stem_cell": {
    "cell_type": "raw",
    "source": [],
    "metadata": {
     "collapsed": false
    }
   }
  },
  "toc": {
   "base_numbering": 1,
   "nav_menu": {},
   "number_sections": true,
   "sideBar": true,
   "skip_h1_title": false,
   "title_cell": "Table of Contents",
   "title_sidebar": "Contents",
   "toc_cell": false,
   "toc_position": {},
   "toc_section_display": true,
   "toc_window_display": false
  }
 },
 "nbformat": 4,
 "nbformat_minor": 1
}