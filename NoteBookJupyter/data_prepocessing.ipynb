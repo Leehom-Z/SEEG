{
 "cells": [
  {
   "cell_type": "markdown",
   "metadata": {
    "collapsed": true,
    "pycharm": {
     "name": "#%% md\n"
    }
   },
   "source": [
    "# Data Processes\n",
    "state_dict = {\"sleep\":0, \"preseizure\": 1}"
   ]
  },
  {
   "cell_type": "code",
   "execution_count": 30,
   "outputs": [],
   "source": [
    "import numpy as np\n",
    "import os \n",
    "import pickle\n",
    "import sys\n",
    "sys.path.append(\"../\")\n",
    "from util.util_file import time_add"
   ],
   "metadata": {
    "collapsed": false,
    "pycharm": {
     "name": "#%%\n",
     "is_executing": false
    }
   }
  },
  {
   "cell_type": "markdown",
   "source": [
    "## 1.构建滤波数据和原始数据的映射 "
   ],
   "metadata": {
    "collapsed": false
   }
  },
  {
   "cell_type": "code",
   "execution_count": 59,
   "outputs": [],
   "source": [
    "# filter\n",
    "filter_pre_1_path_dir = \"../visualization_feature/raw_data_time_sequentially/preseizure/BDP/filter/pre_1\"\n",
    "filter_pre_2_path_dir = \"../visualization_feature/raw_data_time_sequentially/preseizure/BDP/filter/pre_2\"\n",
    "filter_sleep_path_dir = \"..//visualization_feature/raw_data_time_sequentially/sleep/BDP/filter\"\n",
    "\n",
    "# non-filter\n",
    "non_filter_pre_1_path_dir = \"../visualization_feature/raw_data_time_sequentially/preseizure/BDP/no_filter/pre_1\"\n",
    "non_filter_pre_2_path_dir = \"../visualization_feature/raw_data_time_sequentially/preseizure/BDP/no_filter/pre_2\"\n",
    "non_filter_sleep_path_dir = \"..//visualization_feature/raw_data_time_sequentially/sleep/BDP/no_filter\""
   ],
   "metadata": {
    "collapsed": false,
    "pycharm": {
     "name": "#%%\n",
     "is_executing": false
    }
   }
  },
  {
   "cell_type": "markdown",
   "source": [
    "生成滤波和非滤波切片的映射"
   ],
   "metadata": {
    "collapsed": false
   }
  },
  {
   "cell_type": "code",
   "execution_count": 60,
   "outputs": [
    {
     "name": "stdout",
     "text": [
      "fi_pre_1:309, fi_pre_2:1783, fi_sleep:7199\n",
      "nfi_pre_1:309, nfi_pre_2:1783, nfi_sleep:7199\n",
      "9291\n"
     ],
     "output_type": "stream"
    }
   ],
   "source": [
    "fi_pre_1_names = os.listdir(filter_pre_1_path_dir)\n",
    "fi_pre_2_names = os.listdir(filter_pre_2_path_dir)\n",
    "fi_sleep_names = os.listdir(filter_sleep_path_dir)\n",
    "# sorted by time \n",
    "fi_pre_1_names.sort()\n",
    "fi_pre_2_names.sort()\n",
    "fi_sleep_names.sort()\n",
    "print(\"fi_pre_1:{}, fi_pre_2:{}, fi_sleep:{}\".format(len(fi_pre_1_names), len(fi_pre_2_names), len(fi_sleep_names)))\n",
    "\n",
    "nfi_pre_1_names = os.listdir(non_filter_pre_1_path_dir)\n",
    "nfi_pre_2_names = os.listdir(non_filter_pre_2_path_dir)\n",
    "nfi_sleep_names = os.listdir(non_filter_sleep_path_dir)\n",
    "nfi_pre_1_names.sort()\n",
    "nfi_pre_2_names.sort()\n",
    "nfi_sleep_names.sort()\n",
    "print(\"nfi_pre_1:{}, nfi_pre_2:{}, nfi_sleep:{}\".format(len(nfi_pre_1_names), len(nfi_pre_2_names), len(nfi_sleep_names)))\n",
    "\n",
    "\n",
    "fi_nfi_dict = {}\n",
    "label = 1\n",
    "for m, n in zip(fi_pre_1_names+fi_pre_2_names, nfi_pre_1_names+nfi_pre_2_names):\n",
    "    fi_nfi_dict[m] = {\"nfi_id\":n, \"label\": label}\n",
    "label = 0\n",
    "for m ,n in zip(fi_sleep_names, nfi_sleep_names):\n",
    "    fi_nfi_dict[m] = {\"nfi_id\":n, \"label\": label}\n",
    "\n",
    "print(len(fi_nfi_dict))\n"
   ],
   "metadata": {
    "collapsed": false,
    "pycharm": {
     "name": "#%%\n",
     "is_executing": false
    }
   }
  },
  {
   "cell_type": "code",
   "execution_count": 61,
   "outputs": [
    {
     "name": "stdout",
     "text": [
      "['e076f2d4-2552-11ea-9699-e0d55e6ff654-0.npy', 'e076f2d5-2552-11ea-9699-e0d55e6ff654-0.npy', 'e076f2d6-2552-11ea-9699-e0d55e6ff654-0.npy', 'e076f2d7-2552-11ea-9699-e0d55e6ff654-0.npy', 'e076f2d8-2552-11ea-9699-e0d55e6ff654-0.npy', 'e076f2d9-2552-11ea-9699-e0d55e6ff654-0.npy', 'e076f2da-2552-11ea-9699-e0d55e6ff654-0.npy', 'e076f2db-2552-11ea-9699-e0d55e6ff654-0.npy', 'e076f2dc-2552-11ea-9699-e0d55e6ff654-0.npy', 'e076f2dd-2552-11ea-9699-e0d55e6ff654-0.npy', 'e076f2de-2552-11ea-9699-e0d55e6ff654-0.npy', 'e076f2df-2552-11ea-9699-e0d55e6ff654-0.npy', 'e076f2e0-2552-11ea-9699-e0d55e6ff654-0.npy', 'e076f2e1-2552-11ea-9699-e0d55e6ff654-0.npy', 'e076f2e2-2552-11ea-9699-e0d55e6ff654-0.npy', 'e076f2e3-2552-11ea-9699-e0d55e6ff654-0.npy', 'e076f2e4-2552-11ea-9699-e0d55e6ff654-0.npy', 'e076f2e5-2552-11ea-9699-e0d55e6ff654-0.npy', 'e076f2e6-2552-11ea-9699-e0d55e6ff654-0.npy', 'e076f2e7-2552-11ea-9699-e0d55e6ff654-0.npy', 'e076f2e8-2552-11ea-9699-e0d55e6ff654-0.npy', 'e076f2e9-2552-11ea-9699-e0d55e6ff654-0.npy', 'e076f2ea-2552-11ea-9699-e0d55e6ff654-0.npy', 'e076f2eb-2552-11ea-9699-e0d55e6ff654-0.npy', 'e076f2ec-2552-11ea-9699-e0d55e6ff654-0.npy', 'e076f2ed-2552-11ea-9699-e0d55e6ff654-0.npy', 'e076f2ee-2552-11ea-9699-e0d55e6ff654-0.npy', 'e076f2ef-2552-11ea-9699-e0d55e6ff654-0.npy', 'e076f2f0-2552-11ea-9699-e0d55e6ff654-0.npy', 'e076f2f1-2552-11ea-9699-e0d55e6ff654-0.npy', 'e076f2f2-2552-11ea-9699-e0d55e6ff654-0.npy', 'e076f2f3-2552-11ea-9699-e0d55e6ff654-0.npy', 'e076f2f4-2552-11ea-9699-e0d55e6ff654-0.npy', 'e076f2f5-2552-11ea-9699-e0d55e6ff654-0.npy', 'e076f2f6-2552-11ea-9699-e0d55e6ff654-0.npy', 'e076f2f7-2552-11ea-9699-e0d55e6ff654-0.npy', 'e076f2f8-2552-11ea-9699-e0d55e6ff654-0.npy', 'e076f2f9-2552-11ea-9699-e0d55e6ff654-0.npy', 'e076f2fa-2552-11ea-9699-e0d55e6ff654-0.npy', 'e076f2fb-2552-11ea-9699-e0d55e6ff654-0.npy', 'e076f2fc-2552-11ea-9699-e0d55e6ff654-0.npy', 'e076f2fd-2552-11ea-9699-e0d55e6ff654-0.npy', 'e076f2fe-2552-11ea-9699-e0d55e6ff654-0.npy', 'e076f2ff-2552-11ea-9699-e0d55e6ff654-0.npy', 'e076f300-2552-11ea-9699-e0d55e6ff654-0.npy', 'e076f301-2552-11ea-9699-e0d55e6ff654-0.npy', 'e076f302-2552-11ea-9699-e0d55e6ff654-0.npy', 'e076f303-2552-11ea-9699-e0d55e6ff654-0.npy', 'e076f304-2552-11ea-9699-e0d55e6ff654-0.npy', 'e076f305-2552-11ea-9699-e0d55e6ff654-0.npy', 'e076f306-2552-11ea-9699-e0d55e6ff654-0.npy', 'e076f307-2552-11ea-9699-e0d55e6ff654-0.npy', 'e076f308-2552-11ea-9699-e0d55e6ff654-0.npy', 'e076f309-2552-11ea-9699-e0d55e6ff654-0.npy', 'e076f30a-2552-11ea-9699-e0d55e6ff654-0.npy', 'e076f30b-2552-11ea-9699-e0d55e6ff654-0.npy', 'e076f30c-2552-11ea-9699-e0d55e6ff654-0.npy', 'e076f30d-2552-11ea-9699-e0d55e6ff654-0.npy', 'e076f30e-2552-11ea-9699-e0d55e6ff654-0.npy', 'e076f30f-2552-11ea-9699-e0d55e6ff654-0.npy', 'e076f310-2552-11ea-9699-e0d55e6ff654-0.npy', 'e076f311-2552-11ea-9699-e0d55e6ff654-0.npy', 'e076f312-2552-11ea-9699-e0d55e6ff654-0.npy', 'e076f313-2552-11ea-9699-e0d55e6ff654-0.npy', 'e076f314-2552-11ea-9699-e0d55e6ff654-0.npy', 'e076f315-2552-11ea-9699-e0d55e6ff654-0.npy', 'e076f316-2552-11ea-9699-e0d55e6ff654-0.npy', 'e076f317-2552-11ea-9699-e0d55e6ff654-0.npy', 'e076f318-2552-11ea-9699-e0d55e6ff654-0.npy', 'e076f319-2552-11ea-9699-e0d55e6ff654-0.npy', 'e076f31a-2552-11ea-9699-e0d55e6ff654-0.npy', 'e076f31b-2552-11ea-9699-e0d55e6ff654-0.npy', 'e076f31c-2552-11ea-9699-e0d55e6ff654-0.npy', 'e076f31d-2552-11ea-9699-e0d55e6ff654-0.npy', 'e076f31e-2552-11ea-9699-e0d55e6ff654-0.npy', 'e076f31f-2552-11ea-9699-e0d55e6ff654-0.npy', 'e076f320-2552-11ea-9699-e0d55e6ff654-0.npy', 'e076f321-2552-11ea-9699-e0d55e6ff654-0.npy', 'e076f322-2552-11ea-9699-e0d55e6ff654-0.npy', 'e076f323-2552-11ea-9699-e0d55e6ff654-0.npy', 'e076f324-2552-11ea-9699-e0d55e6ff654-0.npy', 'e076f325-2552-11ea-9699-e0d55e6ff654-0.npy', 'e076f326-2552-11ea-9699-e0d55e6ff654-0.npy', 'e076f327-2552-11ea-9699-e0d55e6ff654-0.npy', 'e076f328-2552-11ea-9699-e0d55e6ff654-0.npy', 'e076f329-2552-11ea-9699-e0d55e6ff654-0.npy', 'e076f32a-2552-11ea-9699-e0d55e6ff654-0.npy', 'e076f32b-2552-11ea-9699-e0d55e6ff654-0.npy', 'e076f32c-2552-11ea-9699-e0d55e6ff654-0.npy', 'e076f32d-2552-11ea-9699-e0d55e6ff654-0.npy', 'e076f32e-2552-11ea-9699-e0d55e6ff654-0.npy', 'e076f32f-2552-11ea-9699-e0d55e6ff654-0.npy', 'e076f330-2552-11ea-9699-e0d55e6ff654-0.npy', 'e076f331-2552-11ea-9699-e0d55e6ff654-0.npy', 'e076f332-2552-11ea-9699-e0d55e6ff654-0.npy', 'e076f333-2552-11ea-9699-e0d55e6ff654-0.npy', 'e076f334-2552-11ea-9699-e0d55e6ff654-0.npy', 'e076f335-2552-11ea-9699-e0d55e6ff654-0.npy', 'e076f336-2552-11ea-9699-e0d55e6ff654-0.npy', 'e076f337-2552-11ea-9699-e0d55e6ff654-0.npy', 'e076f338-2552-11ea-9699-e0d55e6ff654-0.npy', 'e076f339-2552-11ea-9699-e0d55e6ff654-0.npy', 'e076f33a-2552-11ea-9699-e0d55e6ff654-0.npy', 'e076f33b-2552-11ea-9699-e0d55e6ff654-0.npy', 'e076f33c-2552-11ea-9699-e0d55e6ff654-0.npy', 'e076f33d-2552-11ea-9699-e0d55e6ff654-0.npy', 'e076f33e-2552-11ea-9699-e0d55e6ff654-0.npy', 'e076f33f-2552-11ea-9699-e0d55e6ff654-0.npy', 'e076f340-2552-11ea-9699-e0d55e6ff654-0.npy', 'e076f341-2552-11ea-9699-e0d55e6ff654-0.npy', 'e076f342-2552-11ea-9699-e0d55e6ff654-0.npy', 'e076f343-2552-11ea-9699-e0d55e6ff654-0.npy', 'e076f344-2552-11ea-9699-e0d55e6ff654-0.npy', 'e076f345-2552-11ea-9699-e0d55e6ff654-0.npy', 'e076f346-2552-11ea-9699-e0d55e6ff654-0.npy', 'e076f347-2552-11ea-9699-e0d55e6ff654-0.npy', 'e076f348-2552-11ea-9699-e0d55e6ff654-0.npy', 'e076f349-2552-11ea-9699-e0d55e6ff654-0.npy', 'e076f34a-2552-11ea-9699-e0d55e6ff654-0.npy', 'e076f34b-2552-11ea-9699-e0d55e6ff654-0.npy', 'e076f34c-2552-11ea-9699-e0d55e6ff654-0.npy', 'e076f34d-2552-11ea-9699-e0d55e6ff654-0.npy', 'e076f34e-2552-11ea-9699-e0d55e6ff654-0.npy', 'e076f34f-2552-11ea-9699-e0d55e6ff654-0.npy', 'e076f350-2552-11ea-9699-e0d55e6ff654-0.npy', 'e076f351-2552-11ea-9699-e0d55e6ff654-0.npy', 'e076f352-2552-11ea-9699-e0d55e6ff654-0.npy', 'e076f353-2552-11ea-9699-e0d55e6ff654-0.npy', 'e076f354-2552-11ea-9699-e0d55e6ff654-0.npy', 'e076f355-2552-11ea-9699-e0d55e6ff654-0.npy', 'e076f356-2552-11ea-9699-e0d55e6ff654-0.npy', 'e076f357-2552-11ea-9699-e0d55e6ff654-0.npy', 'e076f358-2552-11ea-9699-e0d55e6ff654-0.npy', 'e076f359-2552-11ea-9699-e0d55e6ff654-0.npy', 'e076f35a-2552-11ea-9699-e0d55e6ff654-0.npy', 'e076f35b-2552-11ea-9699-e0d55e6ff654-0.npy', 'e076f35c-2552-11ea-9699-e0d55e6ff654-0.npy', 'e076f35d-2552-11ea-9699-e0d55e6ff654-0.npy', 'e076f35e-2552-11ea-9699-e0d55e6ff654-0.npy', 'e076f35f-2552-11ea-9699-e0d55e6ff654-0.npy', 'e076f360-2552-11ea-9699-e0d55e6ff654-0.npy', 'e076f361-2552-11ea-9699-e0d55e6ff654-0.npy', 'e076f362-2552-11ea-9699-e0d55e6ff654-0.npy', 'e076f363-2552-11ea-9699-e0d55e6ff654-0.npy', 'e076f364-2552-11ea-9699-e0d55e6ff654-0.npy', 'e076f365-2552-11ea-9699-e0d55e6ff654-0.npy', 'e076f366-2552-11ea-9699-e0d55e6ff654-0.npy', 'e076f367-2552-11ea-9699-e0d55e6ff654-0.npy', 'e076f368-2552-11ea-9699-e0d55e6ff654-0.npy', 'e076f369-2552-11ea-9699-e0d55e6ff654-0.npy', 'e076f36a-2552-11ea-9699-e0d55e6ff654-0.npy', 'e076f36b-2552-11ea-9699-e0d55e6ff654-0.npy', 'e076f36c-2552-11ea-9699-e0d55e6ff654-0.npy', 'e076f36d-2552-11ea-9699-e0d55e6ff654-0.npy', 'e076f36e-2552-11ea-9699-e0d55e6ff654-0.npy', 'e076f36f-2552-11ea-9699-e0d55e6ff654-0.npy', 'e076f370-2552-11ea-9699-e0d55e6ff654-0.npy', 'e076f371-2552-11ea-9699-e0d55e6ff654-0.npy', 'e076f372-2552-11ea-9699-e0d55e6ff654-0.npy', 'e076f373-2552-11ea-9699-e0d55e6ff654-0.npy', 'e076f374-2552-11ea-9699-e0d55e6ff654-0.npy', 'e076f375-2552-11ea-9699-e0d55e6ff654-0.npy', 'e076f376-2552-11ea-9699-e0d55e6ff654-0.npy', 'e076f377-2552-11ea-9699-e0d55e6ff654-0.npy', 'e076f378-2552-11ea-9699-e0d55e6ff654-0.npy', 'e076f379-2552-11ea-9699-e0d55e6ff654-0.npy', 'e076f37a-2552-11ea-9699-e0d55e6ff654-0.npy', 'e076f37b-2552-11ea-9699-e0d55e6ff654-0.npy', 'e076f37c-2552-11ea-9699-e0d55e6ff654-0.npy', 'e076f37d-2552-11ea-9699-e0d55e6ff654-0.npy', 'e076f37e-2552-11ea-9699-e0d55e6ff654-0.npy', 'e076f37f-2552-11ea-9699-e0d55e6ff654-0.npy', 'e076f380-2552-11ea-9699-e0d55e6ff654-0.npy', 'e076f381-2552-11ea-9699-e0d55e6ff654-0.npy', 'e076f382-2552-11ea-9699-e0d55e6ff654-0.npy', 'e076f383-2552-11ea-9699-e0d55e6ff654-0.npy', 'e076f384-2552-11ea-9699-e0d55e6ff654-0.npy', 'e076f385-2552-11ea-9699-e0d55e6ff654-0.npy', 'e076f386-2552-11ea-9699-e0d55e6ff654-0.npy', 'e076f387-2552-11ea-9699-e0d55e6ff654-0.npy', 'e076f388-2552-11ea-9699-e0d55e6ff654-0.npy', 'e076f389-2552-11ea-9699-e0d55e6ff654-0.npy', 'e076f38a-2552-11ea-9699-e0d55e6ff654-0.npy', 'e076f38b-2552-11ea-9699-e0d55e6ff654-0.npy', 'e076f38c-2552-11ea-9699-e0d55e6ff654-0.npy', 'e076f38d-2552-11ea-9699-e0d55e6ff654-0.npy', 'e076f38e-2552-11ea-9699-e0d55e6ff654-0.npy', 'e076f38f-2552-11ea-9699-e0d55e6ff654-0.npy', 'e076f390-2552-11ea-9699-e0d55e6ff654-0.npy', 'e076f391-2552-11ea-9699-e0d55e6ff654-0.npy', 'e076f392-2552-11ea-9699-e0d55e6ff654-0.npy', 'e076f393-2552-11ea-9699-e0d55e6ff654-0.npy', 'e076f394-2552-11ea-9699-e0d55e6ff654-0.npy', 'e076f395-2552-11ea-9699-e0d55e6ff654-0.npy', 'e076f396-2552-11ea-9699-e0d55e6ff654-0.npy', 'e076f397-2552-11ea-9699-e0d55e6ff654-0.npy', 'e076f398-2552-11ea-9699-e0d55e6ff654-0.npy', 'e076f399-2552-11ea-9699-e0d55e6ff654-0.npy', 'e076f39a-2552-11ea-9699-e0d55e6ff654-0.npy', 'e076f39b-2552-11ea-9699-e0d55e6ff654-0.npy', 'e076f39c-2552-11ea-9699-e0d55e6ff654-0.npy', 'e076f39d-2552-11ea-9699-e0d55e6ff654-0.npy', 'e076f39e-2552-11ea-9699-e0d55e6ff654-0.npy', 'e076f39f-2552-11ea-9699-e0d55e6ff654-0.npy', 'e076f3a0-2552-11ea-9699-e0d55e6ff654-0.npy', 'e076f3a1-2552-11ea-9699-e0d55e6ff654-0.npy', 'e076f3a2-2552-11ea-9699-e0d55e6ff654-0.npy', 'e076f3a3-2552-11ea-9699-e0d55e6ff654-0.npy', 'e076f3a4-2552-11ea-9699-e0d55e6ff654-0.npy', 'e076f3a5-2552-11ea-9699-e0d55e6ff654-0.npy', 'e076f3a6-2552-11ea-9699-e0d55e6ff654-0.npy', 'e076f3a7-2552-11ea-9699-e0d55e6ff654-0.npy', 'e076f3a8-2552-11ea-9699-e0d55e6ff654-0.npy', 'e076f3a9-2552-11ea-9699-e0d55e6ff654-0.npy', 'e076f3aa-2552-11ea-9699-e0d55e6ff654-0.npy', 'e076f3ab-2552-11ea-9699-e0d55e6ff654-0.npy', 'e076f3ac-2552-11ea-9699-e0d55e6ff654-0.npy', 'e076f3ad-2552-11ea-9699-e0d55e6ff654-0.npy', 'e076f3ae-2552-11ea-9699-e0d55e6ff654-0.npy', 'e076f3af-2552-11ea-9699-e0d55e6ff654-0.npy', 'e076f3b0-2552-11ea-9699-e0d55e6ff654-0.npy', 'e076f3b1-2552-11ea-9699-e0d55e6ff654-0.npy', 'e076f3b2-2552-11ea-9699-e0d55e6ff654-0.npy', 'e076f3b3-2552-11ea-9699-e0d55e6ff654-0.npy', 'e076f3b4-2552-11ea-9699-e0d55e6ff654-0.npy', 'e076f3b5-2552-11ea-9699-e0d55e6ff654-0.npy', 'e076f3b6-2552-11ea-9699-e0d55e6ff654-0.npy', 'e076f3b7-2552-11ea-9699-e0d55e6ff654-0.npy', 'e076f3b8-2552-11ea-9699-e0d55e6ff654-0.npy', 'e076f3b9-2552-11ea-9699-e0d55e6ff654-0.npy', 'e076f3ba-2552-11ea-9699-e0d55e6ff654-0.npy', 'e076f3bb-2552-11ea-9699-e0d55e6ff654-0.npy', 'e076f3bc-2552-11ea-9699-e0d55e6ff654-0.npy', 'e076f3bd-2552-11ea-9699-e0d55e6ff654-0.npy', 'e076f3be-2552-11ea-9699-e0d55e6ff654-0.npy', 'e076f3bf-2552-11ea-9699-e0d55e6ff654-0.npy', 'e076f3c0-2552-11ea-9699-e0d55e6ff654-0.npy', 'e076f3c1-2552-11ea-9699-e0d55e6ff654-0.npy', 'e076f3c2-2552-11ea-9699-e0d55e6ff654-0.npy', 'e076f3c3-2552-11ea-9699-e0d55e6ff654-0.npy', 'e076f3c4-2552-11ea-9699-e0d55e6ff654-0.npy', 'e076f3c5-2552-11ea-9699-e0d55e6ff654-0.npy', 'e076f3c6-2552-11ea-9699-e0d55e6ff654-0.npy', 'e076f3c7-2552-11ea-9699-e0d55e6ff654-0.npy', 'e076f3c8-2552-11ea-9699-e0d55e6ff654-0.npy', 'e076f3c9-2552-11ea-9699-e0d55e6ff654-0.npy', 'e076f3ca-2552-11ea-9699-e0d55e6ff654-0.npy', 'e076f3cb-2552-11ea-9699-e0d55e6ff654-0.npy', 'e076f3cc-2552-11ea-9699-e0d55e6ff654-0.npy', 'e076f3cd-2552-11ea-9699-e0d55e6ff654-0.npy', 'e076f3ce-2552-11ea-9699-e0d55e6ff654-0.npy', 'e076f3cf-2552-11ea-9699-e0d55e6ff654-0.npy', 'e076f3d0-2552-11ea-9699-e0d55e6ff654-0.npy', 'e076f3d1-2552-11ea-9699-e0d55e6ff654-0.npy', 'e076f3d2-2552-11ea-9699-e0d55e6ff654-0.npy', 'e076f3d3-2552-11ea-9699-e0d55e6ff654-0.npy', 'e076f3d4-2552-11ea-9699-e0d55e6ff654-0.npy', 'e076f3d5-2552-11ea-9699-e0d55e6ff654-0.npy', 'e076f3d6-2552-11ea-9699-e0d55e6ff654-0.npy', 'e076f3d7-2552-11ea-9699-e0d55e6ff654-0.npy', 'e076f3d8-2552-11ea-9699-e0d55e6ff654-0.npy', 'e076f3d9-2552-11ea-9699-e0d55e6ff654-0.npy', 'e076f3da-2552-11ea-9699-e0d55e6ff654-0.npy', 'e076f3db-2552-11ea-9699-e0d55e6ff654-0.npy', 'e076f3dc-2552-11ea-9699-e0d55e6ff654-0.npy', 'e076f3dd-2552-11ea-9699-e0d55e6ff654-0.npy', 'e076f3de-2552-11ea-9699-e0d55e6ff654-0.npy', 'e076f3df-2552-11ea-9699-e0d55e6ff654-0.npy', 'e076f3e0-2552-11ea-9699-e0d55e6ff654-0.npy', 'e076f3e1-2552-11ea-9699-e0d55e6ff654-0.npy', 'e076f3e2-2552-11ea-9699-e0d55e6ff654-0.npy', 'e076f3e3-2552-11ea-9699-e0d55e6ff654-0.npy', 'e076f3e4-2552-11ea-9699-e0d55e6ff654-0.npy', 'e076f3e5-2552-11ea-9699-e0d55e6ff654-0.npy', 'e076f3e6-2552-11ea-9699-e0d55e6ff654-0.npy', 'e076f3e7-2552-11ea-9699-e0d55e6ff654-0.npy', 'e076f3e8-2552-11ea-9699-e0d55e6ff654-0.npy', 'e076f3e9-2552-11ea-9699-e0d55e6ff654-0.npy', 'e076f3ea-2552-11ea-9699-e0d55e6ff654-0.npy', 'e076f3eb-2552-11ea-9699-e0d55e6ff654-0.npy', 'e076f3ec-2552-11ea-9699-e0d55e6ff654-0.npy', 'e076f3ed-2552-11ea-9699-e0d55e6ff654-0.npy', 'e076f3ee-2552-11ea-9699-e0d55e6ff654-0.npy', 'e076f3ef-2552-11ea-9699-e0d55e6ff654-0.npy', 'e076f3f0-2552-11ea-9699-e0d55e6ff654-0.npy', 'e076f3f1-2552-11ea-9699-e0d55e6ff654-0.npy', 'e076f3f2-2552-11ea-9699-e0d55e6ff654-0.npy', 'e076f3f3-2552-11ea-9699-e0d55e6ff654-0.npy', 'e076f3f4-2552-11ea-9699-e0d55e6ff654-0.npy', 'e076f3f5-2552-11ea-9699-e0d55e6ff654-0.npy', 'e076f3f6-2552-11ea-9699-e0d55e6ff654-0.npy', 'e076f3f7-2552-11ea-9699-e0d55e6ff654-0.npy', 'e076f3f8-2552-11ea-9699-e0d55e6ff654-0.npy', 'e076f3f9-2552-11ea-9699-e0d55e6ff654-0.npy', 'e076f3fa-2552-11ea-9699-e0d55e6ff654-0.npy', 'e076f3fb-2552-11ea-9699-e0d55e6ff654-0.npy', 'e076f3fc-2552-11ea-9699-e0d55e6ff654-0.npy', 'e076f3fd-2552-11ea-9699-e0d55e6ff654-0.npy', 'e076f3fe-2552-11ea-9699-e0d55e6ff654-0.npy', 'e076f3ff-2552-11ea-9699-e0d55e6ff654-0.npy', 'e076f400-2552-11ea-9699-e0d55e6ff654-0.npy', 'e076f401-2552-11ea-9699-e0d55e6ff654-0.npy', 'e076f402-2552-11ea-9699-e0d55e6ff654-0.npy', 'e076f403-2552-11ea-9699-e0d55e6ff654-0.npy', 'e076f404-2552-11ea-9699-e0d55e6ff654-0.npy', 'e076f405-2552-11ea-9699-e0d55e6ff654-0.npy', 'e076f406-2552-11ea-9699-e0d55e6ff654-0.npy', 'e076f407-2552-11ea-9699-e0d55e6ff654-0.npy', 'e076f408-2552-11ea-9699-e0d55e6ff654-0.npy']\n"
     ],
     "output_type": "stream"
    }
   ],
   "source": [
    "print(fi_pre_1_names)"
   ],
   "metadata": {
    "collapsed": false,
    "pycharm": {
     "name": "#%%\n",
     "is_executing": false
    }
   }
  },
  {
   "cell_type": "markdown",
   "source": [
    "将映射表进行保存\n",
    "\n",
    "保存格式：{fi_id:{\"nfi_id\":nfi_id, \"label\":0/1 }}\n",
    "\n",
    "fi_id: 经过滤波切片的id，  nfi_if: 没有经过滤波的切片id"
   ],
   "metadata": {
    "collapsed": false,
    "pycharm": {
     "name": "#%% md\n",
     "is_executing": false
    }
   }
  },
  {
   "cell_type": "code",
   "execution_count": 62,
   "outputs": [
    {
     "name": "stdout",
     "text": [
      "映射表保存成功！\n"
     ],
     "output_type": "stream"
    }
   ],
   "source": [
    "sava_file = \"./data/fi_nfi_id.pkl\"\n",
    "with open(sava_file, 'wb') as f:\n",
    "    pickle.dump(fi_nfi_dict, f)\n",
    "    print(\"映射表保存成功！\")"
   ],
   "metadata": {
    "collapsed": false,
    "pycharm": {
     "name": "#%%\n",
     "is_executing": false
    }
   }
  },
  {
   "cell_type": "markdown",
   "source": [
    "## 2.特征重新映射,需要将特征和id序列号进行映射"
   ],
   "metadata": {
    "collapsed": false
   }
  },
  {
   "cell_type": "code",
   "execution_count": 63,
   "outputs": [
    {
     "name": "stdout",
     "text": [
      "(309, 50) (1783, 50) (7199, 50)\n",
      "(9291, 50)\n",
      "9291\n"
     ],
     "output_type": "stream"
    }
   ],
   "source": [
    "feature_pre_1_path = \"./data/pre_1/BDP-feature.npy\"\n",
    "feature_pre_2_path = \"./data/pre_2/BDP-feature.npy\"\n",
    "feature_sleep_path = \"./data/sleep/BDP-feature.npy\"\n",
    "\n",
    "feature_pre_1_data = np.load(feature_pre_1_path)\n",
    "feature_pre_2_data = np.load(feature_pre_2_path)\n",
    "feature_sleep_data = np.load(feature_sleep_path)\n",
    "\n",
    "print(feature_pre_1_data.shape, feature_pre_2_data.shape, feature_sleep_data.shape)\n",
    "feature_id_data_dict = {}\n",
    "concatenate_feature = np.concatenate((feature_pre_1_data, feature_pre_2_data, feature_sleep_data), axis=0)\n",
    "print(concatenate_feature.shape)\n",
    "for id, data in zip(fi_pre_1_names+fi_pre_2_names+fi_sleep_names, concatenate_feature):\n",
    "    feature_id_data_dict[id] = data\n",
    "print(len(feature_id_data_dict))"
   ],
   "metadata": {
    "collapsed": false,
    "pycharm": {
     "name": "#%%\n",
     "is_executing": false
    }
   }
  },
  {
   "cell_type": "code",
   "execution_count": 64,
   "outputs": [
    {
     "name": "stdout",
     "text": [
      "特征id序列化完成！\n"
     ],
     "output_type": "stream"
    }
   ],
   "source": [
    "save_path = \"./data/feature_id_data_dict.pkl\"\n",
    "with open(save_path, 'wb') as f:\n",
    "    pickle.dump(feature_id_data_dict, f)\n",
    "    print(\"特征id序列化完成！\")"
   ],
   "metadata": {
    "collapsed": false,
    "pycharm": {
     "name": "#%%\n",
     "is_executing": false
    }
   }
  },
  {
   "cell_type": "markdown",
   "source": [
    "## 3.选出模型判定正确的特征\n"
   ],
   "metadata": {
    "collapsed": false,
    "pycharm": {
     "name": "#%% md\n"
    }
   }
  },
  {
   "cell_type": "code",
   "execution_count": 65,
   "outputs": [],
   "source": [
    "path_val_prediction = \"./data/BDP_val_prediction.pkl\"\n",
    "val_prediction_dict = np.load(path_val_prediction, allow_pickle=True)"
   ],
   "metadata": {
    "collapsed": false,
    "pycharm": {
     "name": "#%%\n",
     "is_executing": false
    }
   }
  },
  {
   "cell_type": "code",
   "execution_count": 66,
   "outputs": [
    {
     "name": "stdout",
     "text": [
      "True\n"
     ],
     "output_type": "stream"
    }
   ],
   "source": [
    "a = val_prediction_dict[\"e076f3cc-2552-11ea-9699-e0d55e6ff654-0.npy\"][\"ground truth\"]\n",
    "b = val_prediction_dict[\"e076f3cc-2552-11ea-9699-e0d55e6ff654-0.npy\"][\"prediction\"]\n",
    "print(a == b)"
   ],
   "metadata": {
    "collapsed": false,
    "pycharm": {
     "name": "#%%\n",
     "is_executing": false
    }
   }
  },
  {
   "cell_type": "code",
   "execution_count": 68,
   "outputs": [
    {
     "name": "stdout",
     "text": [
      "4286\n"
     ],
     "output_type": "stream"
    }
   ],
   "source": [
    "feature_true_id_prediction = {}\n",
    "for id, data in feature_id_data_dict.items():\n",
    "    if id in val_prediction_dict.keys():\n",
    "        if val_prediction_dict[id][\"ground truth\"] == val_prediction_dict[id][\"prediction\"]:\n",
    "            feature_true_id_prediction[id] = data\n",
    "\n",
    "print(len(feature_true_id_prediction))\n",
    "    "
   ],
   "metadata": {
    "collapsed": false,
    "pycharm": {
     "name": "#%%\n",
     "is_executing": false
    }
   }
  },
  {
   "cell_type": "markdown",
   "source": [
    "## 4. 每个特征和时间的映射关系"
   ],
   "metadata": {
    "collapsed": false,
    "pycharm": {
     "name": "#%% md\n"
    }
   }
  },
  {
   "cell_type": "code",
   "execution_count": 32,
   "outputs": [
    {
     "name": "stdout",
     "text": [
      "9291\n",
      "特征时间映射完成！\n"
     ],
     "output_type": "stream"
    }
   ],
   "source": [
    "feature_id_time_dict = {}\n",
    "pre_1_time = (23, 1, 52)\n",
    "pre_2_time = (3, 1, 52)\n",
    "sleep_time = (23, 1, 52)\n",
    "_time = pre_1_time\n",
    "for id in fi_pre_1_names:\n",
    "    feature_id_time_dict[id] = _time\n",
    "    _time = time_add(_time[0], _time[1], _time[2], 2)\n",
    "\n",
    "_time = pre_2_time\n",
    "for id in fi_pre_2_names:\n",
    "    feature_id_time_dict[id] = _time\n",
    "    _time = time_add(_time[0], _time[1], _time[2], 2)\n",
    "\n",
    "_time = sleep_time\n",
    "for id in fi_sleep_names:\n",
    "    feature_id_time_dict[id] = _time\n",
    "    _time = time_add(_time[0], _time[1], _time[2], 2)\n",
    "\n",
    "save_path = \"./data/feature_id_time_dict.pkl\"\n",
    "print(len(feature_id_time_dict))\n",
    "with open(save_path, 'wb') as f:\n",
    "    pickle.dump(feature_id_time_dict, f)\n",
    "    print(\"特征时间映射完成！\")\n",
    "    "
   ],
   "metadata": {
    "collapsed": false,
    "pycharm": {
     "name": "#%%\n",
     "is_executing": false
    }
   }
  },
  {
   "cell_type": "code",
   "execution_count": 29,
   "outputs": [
    {
     "name": "stdout",
     "text": [
      "(1, 0, 0)\n"
     ],
     "output_type": "stream"
    }
   ],
   "source": [],
   "metadata": {
    "collapsed": false,
    "pycharm": {
     "name": "#%%\n",
     "is_executing": false
    }
   }
  }
 ],
 "metadata": {
  "kernelspec": {
   "name": "ching",
   "language": "python",
   "display_name": "ching"
  },
  "language_info": {
   "codemirror_mode": {
    "name": "ipython",
    "version": 2
   },
   "file_extension": ".py",
   "mimetype": "text/x-python",
   "name": "python",
   "nbconvert_exporter": "python",
   "pygments_lexer": "ipython2",
   "version": "2.7.6"
  },
  "pycharm": {
   "stem_cell": {
    "cell_type": "raw",
    "source": [],
    "metadata": {
     "collapsed": false
    }
   }
  }
 },
 "nbformat": 4,
 "nbformat_minor": 0
}